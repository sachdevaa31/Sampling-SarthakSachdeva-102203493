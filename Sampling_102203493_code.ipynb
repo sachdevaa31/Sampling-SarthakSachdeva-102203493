{
  "nbformat": 4,
  "nbformat_minor": 0,
  "metadata": {
    "colab": {
      "provenance": []
    },
    "kernelspec": {
      "name": "python3",
      "display_name": "Python 3"
    },
    "language_info": {
      "name": "python"
    }
  },
  "cells": [
    {
      "cell_type": "markdown",
      "source": [
        "Step 1: Load the Dataset"
      ],
      "metadata": {
        "id": "ZLJ6hhkdNh3p"
      }
    },
    {
      "cell_type": "code",
      "execution_count": 1,
      "metadata": {
        "colab": {
          "base_uri": "https://localhost:8080/"
        },
        "id": "yfPZrs-iJhA2",
        "outputId": "edceda95-d578-4e56-df42-eb150cf6bc17"
      },
      "outputs": [
        {
          "output_type": "stream",
          "name": "stdout",
          "text": [
            "   Time        V1        V2        V3        V4        V5        V6        V7  \\\n",
            "0     0 -1.359807 -0.072781  2.536347  1.378155 -0.338321  0.462388  0.239599   \n",
            "1     0  1.191857  0.266151  0.166480  0.448154  0.060018 -0.082361 -0.078803   \n",
            "2     1 -1.358354 -1.340163  1.773209  0.379780 -0.503198  1.800499  0.791461   \n",
            "3     1 -0.966272 -0.185226  1.792993 -0.863291 -0.010309  1.247203  0.237609   \n",
            "4     2 -1.158233  0.877737  1.548718  0.403034 -0.407193  0.095921  0.592941   \n",
            "\n",
            "         V8        V9  ...       V21       V22       V23       V24       V25  \\\n",
            "0  0.098698  0.363787  ... -0.018307  0.277838 -0.110474  0.066928  0.128539   \n",
            "1  0.085102 -0.255425  ... -0.225775 -0.638672  0.101288 -0.339846  0.167170   \n",
            "2  0.247676 -1.514654  ...  0.247998  0.771679  0.909412 -0.689281 -0.327642   \n",
            "3  0.377436 -1.387024  ... -0.108300  0.005274 -0.190321 -1.175575  0.647376   \n",
            "4 -0.270533  0.817739  ... -0.009431  0.798278 -0.137458  0.141267 -0.206010   \n",
            "\n",
            "        V26       V27       V28  Amount  Class  \n",
            "0 -0.189115  0.133558 -0.021053  149.62      0  \n",
            "1  0.125895 -0.008983  0.014724    2.69      1  \n",
            "2 -0.139097 -0.055353 -0.059752  378.66      0  \n",
            "3 -0.221929  0.062723  0.061458  123.50      0  \n",
            "4  0.502292  0.219422  0.215153   69.99      0  \n",
            "\n",
            "[5 rows x 31 columns]\n",
            "<class 'pandas.core.frame.DataFrame'>\n",
            "RangeIndex: 772 entries, 0 to 771\n",
            "Data columns (total 31 columns):\n",
            " #   Column  Non-Null Count  Dtype  \n",
            "---  ------  --------------  -----  \n",
            " 0   Time    772 non-null    int64  \n",
            " 1   V1      772 non-null    float64\n",
            " 2   V2      772 non-null    float64\n",
            " 3   V3      772 non-null    float64\n",
            " 4   V4      772 non-null    float64\n",
            " 5   V5      772 non-null    float64\n",
            " 6   V6      772 non-null    float64\n",
            " 7   V7      772 non-null    float64\n",
            " 8   V8      772 non-null    float64\n",
            " 9   V9      772 non-null    float64\n",
            " 10  V10     772 non-null    float64\n",
            " 11  V11     772 non-null    float64\n",
            " 12  V12     772 non-null    float64\n",
            " 13  V13     772 non-null    float64\n",
            " 14  V14     772 non-null    float64\n",
            " 15  V15     772 non-null    float64\n",
            " 16  V16     772 non-null    float64\n",
            " 17  V17     772 non-null    float64\n",
            " 18  V18     772 non-null    float64\n",
            " 19  V19     772 non-null    float64\n",
            " 20  V20     772 non-null    float64\n",
            " 21  V21     772 non-null    float64\n",
            " 22  V22     772 non-null    float64\n",
            " 23  V23     772 non-null    float64\n",
            " 24  V24     772 non-null    float64\n",
            " 25  V25     772 non-null    float64\n",
            " 26  V26     772 non-null    float64\n",
            " 27  V27     772 non-null    float64\n",
            " 28  V28     772 non-null    float64\n",
            " 29  Amount  772 non-null    float64\n",
            " 30  Class   772 non-null    int64  \n",
            "dtypes: float64(29), int64(2)\n",
            "memory usage: 187.1 KB\n",
            "None\n"
          ]
        }
      ],
      "source": [
        "import pandas as pd\n",
        "\n",
        "# Load the dataset\n",
        "file_path = \"/content/Creditcard_data.csv\"\n",
        "data = pd.read_csv(file_path)\n",
        "\n",
        "# Display the first few rows\n",
        "print(data.head())\n",
        "\n",
        "# Check basic info\n",
        "print(data.info())\n"
      ]
    },
    {
      "cell_type": "markdown",
      "source": [
        "Step 2: Check Class Distribution"
      ],
      "metadata": {
        "id": "mmFWdB3uNaV3"
      }
    },
    {
      "cell_type": "code",
      "source": [
        "# Check the distribution of the target variable (Class column)\n",
        "print(data['Class'].value_counts())  # Replace 'Class' with the actual column name\n"
      ],
      "metadata": {
        "colab": {
          "base_uri": "https://localhost:8080/"
        },
        "id": "pUlBdy0BJwHC",
        "outputId": "91d4f5b7-0d92-4a2b-f021-38c525b57290"
      },
      "execution_count": 2,
      "outputs": [
        {
          "output_type": "stream",
          "name": "stdout",
          "text": [
            "Class\n",
            "0    763\n",
            "1      9\n",
            "Name: count, dtype: int64\n"
          ]
        }
      ]
    },
    {
      "cell_type": "markdown",
      "source": [
        "Step 3: Balance the Dataset"
      ],
      "metadata": {
        "id": "6GGbiHqTNrlD"
      }
    },
    {
      "cell_type": "code",
      "source": [
        "from imblearn.over_sampling import SMOTE\n",
        "\n",
        "# Separate features (X) and target variable (y)\n",
        "X = data.drop('Class', axis=1)  # Replace 'Class' with the actual target column name\n",
        "y = data['Class']\n",
        "\n",
        "# Balance the dataset using SMOTE\n",
        "smote = SMOTE(random_state=42)\n",
        "X_balanced, y_balanced = smote.fit_resample(X, y)\n",
        "\n",
        "# Check the new class distribution\n",
        "print(pd.Series(y_balanced).value_counts())\n"
      ],
      "metadata": {
        "colab": {
          "base_uri": "https://localhost:8080/"
        },
        "id": "Nz-Sq2VFJy8A",
        "outputId": "43368a61-820b-4031-ca40-c825578833e6"
      },
      "execution_count": 3,
      "outputs": [
        {
          "output_type": "stream",
          "name": "stdout",
          "text": [
            "Class\n",
            "0    763\n",
            "1    763\n",
            "Name: count, dtype: int64\n"
          ]
        }
      ]
    },
    {
      "cell_type": "markdown",
      "source": [
        "Step 4: Calculate the Sample Size"
      ],
      "metadata": {
        "id": "4nS_gi72N1MH"
      }
    },
    {
      "cell_type": "code",
      "source": [
        "import math\n",
        "\n",
        "# Calculate sample size\n",
        "N = len(X_balanced)  # Total population size\n",
        "Z = 1.96  # 95% confidence\n",
        "p = 0.5  # Estimated proportion\n",
        "E = 0.05  # Margin of error\n",
        "\n",
        "sample_size = math.ceil((N * Z**2 * p * (1 - p)) / ((E**2 * (N - 1)) + (Z**2 * p * (1 - p))))\n",
        "print(\"Calculated Sample Size:\", sample_size)\n"
      ],
      "metadata": {
        "colab": {
          "base_uri": "https://localhost:8080/"
        },
        "id": "LURjUZLsJ5HP",
        "outputId": "e3695104-0523-4824-dc62-47e4ddf9bede"
      },
      "execution_count": 4,
      "outputs": [
        {
          "output_type": "stream",
          "name": "stdout",
          "text": [
            "Calculated Sample Size: 308\n"
          ]
        }
      ]
    },
    {
      "cell_type": "markdown",
      "source": [
        "Step 5: Create Five Samples"
      ],
      "metadata": {
        "id": "yEoOhD8-N8xs"
      }
    },
    {
      "cell_type": "code",
      "source": [
        "from sklearn.utils import resample\n",
        "\n",
        "# Create five samples\n",
        "samples = []\n",
        "for i in range(5):\n",
        "    sample = resample(pd.concat([X_balanced, y_balanced], axis=1),\n",
        "                      n_samples=sample_size, random_state=i)\n",
        "    samples.append(sample)\n",
        "\n",
        "# Check one sample\n",
        "print(samples[0].head())\n"
      ],
      "metadata": {
        "colab": {
          "base_uri": "https://localhost:8080/"
        },
        "id": "419CkAgqJ7m2",
        "outputId": "181d9531-7cd5-46e5-91fc-0de143180974"
      },
      "execution_count": 5,
      "outputs": [
        {
          "output_type": "stream",
          "name": "stdout",
          "text": [
            "      Time        V1        V2        V3        V4        V5        V6  \\\n",
            "684    517  1.314713 -0.328688  0.002645 -0.805044 -0.467260 -0.522747   \n",
            "559    417 -2.680348  1.872052  1.144712 -0.693664  0.155172  0.601325   \n",
            "1216   424 -1.977808  1.576583 -0.800228  3.076116 -0.162537 -1.299571   \n",
            "835    532  0.244796  0.380242  0.971548  0.455242  0.255845 -0.990334   \n",
            "763    574 -0.402057  0.584300  2.474227  0.929684  0.014314  0.297490   \n",
            "\n",
            "            V7        V8        V9  ...       V21       V22       V23  \\\n",
            "684  -0.180850 -0.093472  1.795353  ... -0.122540 -0.029521 -0.250848   \n",
            "559   0.904201 -0.520079  3.013065  ... -0.459592  0.485421 -0.365437   \n",
            "1216 -1.711958  1.017589 -2.135151  ...  0.408297  0.041402 -0.415139   \n",
            "835   0.457930 -0.185410 -0.058102  ... -0.123176 -0.309964 -0.051041   \n",
            "763   0.715195 -0.257153  0.593868  ... -0.072812  0.445733 -0.245103   \n",
            "\n",
            "           V24       V25       V26       V27       V28     Amount  Class  \n",
            "684  -0.427629  0.917790 -0.534370  0.062355  0.012093  10.000000      0  \n",
            "559  -0.744118  0.328655  0.457695  0.566152  0.168241  29.990000      0  \n",
            "1216  0.335948  0.128260  0.025218  0.172815 -0.139045   0.241608      1  \n",
            "835   0.362710  0.299898 -0.159670 -0.060309 -0.041677   1.155611      1  \n",
            "763   0.421234  0.049280 -0.388323 -0.329333 -0.386747  12.000000      0  \n",
            "\n",
            "[5 rows x 31 columns]\n"
          ]
        }
      ]
    },
    {
      "cell_type": "markdown",
      "source": [
        "Step 6: Apply Five Sampling Techniques"
      ],
      "metadata": {
        "id": "oAVZMP4-OAEm"
      }
    },
    {
      "cell_type": "markdown",
      "source": [
        "Simple Random Sampling:"
      ],
      "metadata": {
        "id": "WCMVPLSgOEXP"
      }
    },
    {
      "cell_type": "code",
      "source": [
        "simple_random_sample = samples[0].sample(frac=1, random_state=42)\n"
      ],
      "metadata": {
        "id": "J-9cFJBiJ_Xy"
      },
      "execution_count": 6,
      "outputs": []
    },
    {
      "cell_type": "markdown",
      "source": [
        "Stratified Sampling:"
      ],
      "metadata": {
        "id": "sGKmjhnmOG-b"
      }
    },
    {
      "cell_type": "code",
      "source": [
        "from sklearn.model_selection import train_test_split\n",
        "\n",
        "stratified_sample, _ = train_test_split(samples[1], test_size=0.5,\n",
        "                                        stratify=samples[1]['Class'], random_state=42)\n"
      ],
      "metadata": {
        "id": "t7HmP1S3KBEN"
      },
      "execution_count": 7,
      "outputs": []
    },
    {
      "cell_type": "markdown",
      "source": [
        "Cluster Sampling:"
      ],
      "metadata": {
        "id": "7c9IYSVVOK2W"
      }
    },
    {
      "cell_type": "code",
      "source": [
        "# Group by the 'V2' column\n",
        "clusters = samples[2].groupby('V2')  # Replace 'V2' with a valid column name\n",
        "\n",
        "# Get all unique cluster keys\n",
        "cluster_keys = list(clusters.groups.keys())\n",
        "\n",
        "# Sample the keys safely\n",
        "sampled_keys = pd.Series(cluster_keys).sample(n=2, random_state=42).tolist()  # Adjust n as needed\n",
        "\n",
        "# Filter the original dataset for the sampled clusters\n",
        "cluster_sample = samples[2][samples[2]['V2'].isin(sampled_keys)]  # Replace 'V2' with the column name\n"
      ],
      "metadata": {
        "id": "1zNeHG6-KDP8"
      },
      "execution_count": 15,
      "outputs": []
    },
    {
      "cell_type": "markdown",
      "source": [
        "Systematic Sampling:"
      ],
      "metadata": {
        "id": "BQhYp5xFON8S"
      }
    },
    {
      "cell_type": "code",
      "source": [
        "step = len(samples[3]) // sample_size\n",
        "systematic_sample = samples[3].iloc[::step]\n"
      ],
      "metadata": {
        "id": "11CH9u0gKiyN"
      },
      "execution_count": 11,
      "outputs": []
    },
    {
      "cell_type": "markdown",
      "source": [
        "Convenience Sampling:"
      ],
      "metadata": {
        "id": "a2E0ArdFOQ_j"
      }
    },
    {
      "cell_type": "code",
      "source": [
        "convenience_sample = samples[4].head(sample_size)\n"
      ],
      "metadata": {
        "id": "lU64ppVeKlTL"
      },
      "execution_count": 12,
      "outputs": []
    },
    {
      "cell_type": "markdown",
      "source": [
        " Logistic Regression Code"
      ],
      "metadata": {
        "id": "7mF6TQYpOb_c"
      }
    },
    {
      "cell_type": "code",
      "source": [
        "# Import StandardScaler\n",
        "from sklearn.preprocessing import StandardScaler\n",
        "\n",
        "# Scale the data\n",
        "scaler = StandardScaler()\n",
        "X_sample_scaled = scaler.fit_transform(X_sample)  # Replace X_sample with your features\n",
        "\n",
        "# Initialize Logistic Regression with updated parameters\n",
        "log_reg = LogisticRegression(max_iter=1000, solver='saga')\n",
        "\n",
        "# Train the model\n",
        "log_reg.fit(X_sample_scaled, y_sample)\n",
        "\n",
        "# Evaluate the model\n",
        "y_pred = log_reg.predict(X_sample_scaled)\n",
        "accuracy = accuracy_score(y_sample, y_pred)\n",
        "print(f\"LogisticRegression Accuracy: {accuracy}\")\n"
      ],
      "metadata": {
        "colab": {
          "base_uri": "https://localhost:8080/"
        },
        "id": "Z4X4c4rdKn06",
        "outputId": "b0518b8f-c704-466f-c391-fc4402e902e3"
      },
      "execution_count": 17,
      "outputs": [
        {
          "output_type": "stream",
          "name": "stdout",
          "text": [
            "LogisticRegression Accuracy: 0.9545454545454546\n"
          ]
        }
      ]
    },
    {
      "cell_type": "markdown",
      "source": [
        "Scaling for Other Models"
      ],
      "metadata": {
        "id": "HyT0MT-mOfwL"
      }
    },
    {
      "cell_type": "code",
      "source": [
        "# Scale the data once\n",
        "scaler = StandardScaler()\n",
        "X_sample_scaled = scaler.fit_transform(X_sample)\n",
        "\n",
        "# Train and evaluate all models\n",
        "models = [\n",
        "    LogisticRegression(max_iter=1000, solver='saga'),\n",
        "    DecisionTreeClassifier(),\n",
        "    RandomForestClassifier(),\n",
        "    SVC(),\n",
        "    KNeighborsClassifier()\n",
        "]\n",
        "\n",
        "for model in models:\n",
        "    model.fit(X_sample_scaled, y_sample)\n",
        "    y_pred = model.predict(X_sample_scaled)\n",
        "    accuracy = accuracy_score(y_sample, y_pred)\n",
        "    print(f\"{model.__class__.__name__} Accuracy: {accuracy}\")\n"
      ],
      "metadata": {
        "colab": {
          "base_uri": "https://localhost:8080/"
        },
        "id": "Bg5HajjcLagV",
        "outputId": "95c64d66-c50d-48b8-86f9-db380f7be89e"
      },
      "execution_count": 18,
      "outputs": [
        {
          "output_type": "stream",
          "name": "stdout",
          "text": [
            "LogisticRegression Accuracy: 0.9545454545454546\n",
            "DecisionTreeClassifier Accuracy: 1.0\n",
            "RandomForestClassifier Accuracy: 1.0\n",
            "SVC Accuracy: 0.9837662337662337\n",
            "KNeighborsClassifier Accuracy: 0.9123376623376623\n"
          ]
        }
      ]
    },
    {
      "cell_type": "markdown",
      "source": [
        "Validate Results on a Test Set\n",
        "Split the data into training and test sets to evaluate model performance on unseen data."
      ],
      "metadata": {
        "id": "TMmBHBqQOmIN"
      }
    },
    {
      "cell_type": "code",
      "source": [
        "from sklearn.model_selection import train_test_split\n",
        "\n",
        "# Split the dataset into train and test sets\n",
        "X_train, X_test, y_train, y_test = train_test_split(X_sample_scaled, y_sample, test_size=0.2, random_state=42)\n",
        "\n",
        "for model in models:\n",
        "    model.fit(X_train, y_train)\n",
        "    y_pred = model.predict(X_test)\n",
        "    accuracy = accuracy_score(y_test, y_pred)\n",
        "    print(f\"{model.__class__.__name__} Test Accuracy: {accuracy}\")\n"
      ],
      "metadata": {
        "colab": {
          "base_uri": "https://localhost:8080/"
        },
        "id": "IIA_zu86L7eg",
        "outputId": "de029702-3a62-4adb-c1b8-2816808d2d8a"
      },
      "execution_count": 19,
      "outputs": [
        {
          "output_type": "stream",
          "name": "stdout",
          "text": [
            "LogisticRegression Test Accuracy: 0.9354838709677419\n",
            "DecisionTreeClassifier Test Accuracy: 0.9516129032258065\n",
            "RandomForestClassifier Test Accuracy: 0.9838709677419355\n",
            "SVC Test Accuracy: 0.9838709677419355\n",
            "KNeighborsClassifier Test Accuracy: 0.9354838709677419\n"
          ]
        }
      ]
    },
    {
      "cell_type": "markdown",
      "source": [
        "Cross-Validation\n",
        "\n",
        "Perform k-fold cross-validation to ensure the models are not overfitting.\n"
      ],
      "metadata": {
        "id": "5z0p1HF0Oqnr"
      }
    },
    {
      "cell_type": "code",
      "source": [
        "from sklearn.model_selection import cross_val_score\n",
        "\n",
        "for model in models:\n",
        "    scores = cross_val_score(model, X_sample_scaled, y_sample, cv=5)\n",
        "    print(f\"{model.__class__.__name__} Cross-Validation Accuracy: {scores.mean()}\")\n"
      ],
      "metadata": {
        "colab": {
          "base_uri": "https://localhost:8080/"
        },
        "id": "1UXpHdsIL-Hj",
        "outputId": "2214c628-577e-430f-ab12-7ed8dcb750b1"
      },
      "execution_count": 20,
      "outputs": [
        {
          "output_type": "stream",
          "name": "stdout",
          "text": [
            "LogisticRegression Cross-Validation Accuracy: 0.9221047065044949\n",
            "DecisionTreeClassifier Cross-Validation Accuracy: 0.9576414595452143\n",
            "RandomForestClassifier Cross-Validation Accuracy: 0.9967213114754099\n",
            "SVC Cross-Validation Accuracy: 0.9675304071919619\n",
            "KNeighborsClassifier Cross-Validation Accuracy: 0.8670015864621894\n"
          ]
        }
      ]
    },
    {
      "cell_type": "markdown",
      "source": [
        " Hyperparameter Tuning\n",
        "\n",
        "Use GridSearchCV or RandomizedSearchCV to optimize model hyperparameters for better performance."
      ],
      "metadata": {
        "id": "ka-NtVq9Otkm"
      }
    },
    {
      "cell_type": "code",
      "source": [
        "from sklearn.model_selection import GridSearchCV\n",
        "\n",
        "param_grid = {\n",
        "    'n_estimators': [50, 100, 200],\n",
        "    'max_depth': [None, 10, 20, 30],\n",
        "    'min_samples_split': [2, 5, 10]\n",
        "}\n",
        "\n",
        "grid_search = GridSearchCV(RandomForestClassifier(), param_grid, cv=5, scoring='accuracy')\n",
        "grid_search.fit(X_sample_scaled, y_sample)\n",
        "print(\"Best Parameters:\", grid_search.best_params_)\n",
        "print(\"Best Accuracy:\", grid_search.best_score_)\n"
      ],
      "metadata": {
        "colab": {
          "base_uri": "https://localhost:8080/"
        },
        "id": "kT30VELLMAim",
        "outputId": "e1ac3ebc-488f-4682-b24c-31c7236c6155"
      },
      "execution_count": 21,
      "outputs": [
        {
          "output_type": "stream",
          "name": "stdout",
          "text": [
            "Best Parameters: {'max_depth': None, 'min_samples_split': 2, 'n_estimators': 50}\n",
            "Best Accuracy: 0.9967213114754099\n"
          ]
        }
      ]
    },
    {
      "cell_type": "markdown",
      "source": [],
      "metadata": {
        "id": "8IoVOv49NZDm"
      }
    }
  ]
}